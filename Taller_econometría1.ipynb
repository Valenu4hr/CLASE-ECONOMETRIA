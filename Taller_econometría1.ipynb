{
  "nbformat": 4,
  "nbformat_minor": 0,
  "metadata": {
    "colab": {
      "provenance": []
    },
    "kernelspec": {
      "name": "python3",
      "display_name": "Python 3"
    },
    "language_info": {
      "name": "python"
    }
  },
  "cells": [
    {
      "cell_type": "markdown",
      "source": [
        "# **TALLER ECONOMETRÍA**\n",
        "\n",
        "---\n",
        "**Dylan Camargo**\n",
        "\n",
        "\n",
        "**Valentina Díaz**\n",
        "\n",
        "**Johan Montealegre**\n",
        "\n",
        "\n",
        "\n",
        "\n",
        "\n",
        "\n",
        "\n",
        "\n"
      ],
      "metadata": {
        "id": "P3UohSj6m0v9"
      }
    },
    {
      "cell_type": "markdown",
      "source": [
        "###a) Crea un programa que tome una lista de números como entrada y devuelva la suma de todos los números en la lista."
      ],
      "metadata": {
        "id": "VFiVKNVCmNub"
      }
    },
    {
      "cell_type": "code",
      "source": [
        "Lista=[52,63,87,96,33,6,7,9,15,20,44]\n",
        "Suma= sum(Lista)"
      ],
      "metadata": {
        "id": "uhrcQZz2mU0Z"
      },
      "execution_count": null,
      "outputs": []
    },
    {
      "cell_type": "code",
      "source": [
        "Suma"
      ],
      "metadata": {
        "colab": {
          "base_uri": "https://localhost:8080/"
        },
        "id": "aaoVujyBgq65",
        "outputId": "ae42fa2b-439f-4e11-bc2a-1e5a532e1fa9"
      },
      "execution_count": null,
      "outputs": [
        {
          "output_type": "execute_result",
          "data": {
            "text/plain": [
              "432"
            ]
          },
          "metadata": {},
          "execution_count": 4
        }
      ]
    },
    {
      "cell_type": "markdown",
      "source": [
        "### b) Escribe un programa que tome dos listas y devuelva una nueva lista que contenga todos los elementos que son comunes a ambas listas."
      ],
      "metadata": {
        "id": "bplY_xh5mgT-"
      }
    },
    {
      "cell_type": "code",
      "source": [
        "Lista1= [17,23,36,47,59,62,75,81,93,3,5]\n",
        "Lista2=[5,7,9,23,34,49,63,77,81,99,11]\n",
        "Lista3= list(set(Lista1) & set(Lista2))"
      ],
      "metadata": {
        "id": "tt64ww4Emk_p"
      },
      "execution_count": null,
      "outputs": []
    },
    {
      "cell_type": "code",
      "source": [
        "Lista3"
      ],
      "metadata": {
        "colab": {
          "base_uri": "https://localhost:8080/"
        },
        "id": "Ct3CdDyZgtHW",
        "outputId": "8b45d360-68fa-4155-e198-1a9f9270a52a"
      },
      "execution_count": null,
      "outputs": [
        {
          "output_type": "execute_result",
          "data": {
            "text/plain": [
              "[81, 5, 23]"
            ]
          },
          "metadata": {},
          "execution_count": 155
        }
      ]
    },
    {
      "cell_type": "markdown",
      "source": [
        "###c) Crea un programa que tome una lista de cadenas como entrada y devuelva la longitud de la cadena más larga en la lista."
      ],
      "metadata": {
        "id": "TNw1imuKVfjd"
      }
    },
    {
      "cell_type": "code",
      "execution_count": null,
      "metadata": {
        "id": "kp85WyoRVJV0"
      },
      "outputs": [],
      "source": [
        "lista_c=[\"raul\",\"esperanza\",\"camilo\",\"thomas\"]\n",
        "def longitud(x):\n",
        "  maximo=0\n",
        "  for cadena in x:\n",
        "    if len(cadena)>maximo:\n",
        "      maximo=len(cadena)\n",
        "  return maximo\n",
        "\n",
        "LONG_LARGA= longitud(lista_c)"
      ]
    },
    {
      "cell_type": "code",
      "source": [
        "LONG_LARGA"
      ],
      "metadata": {
        "colab": {
          "base_uri": "https://localhost:8080/"
        },
        "id": "Ggp70jmHgmfq",
        "outputId": "9467e0ee-3714-43e8-8474-c840b77c4757"
      },
      "execution_count": null,
      "outputs": [
        {
          "output_type": "execute_result",
          "data": {
            "text/plain": [
              "9"
            ]
          },
          "metadata": {},
          "execution_count": 151
        }
      ]
    },
    {
      "cell_type": "markdown",
      "source": [
        "###d) Escribe un programa que tome una lista de números como entrada y devuelva una nueva lista que contenga solo los números pares de la lista original."
      ],
      "metadata": {
        "id": "t-SE7NBkVkcN"
      }
    },
    {
      "cell_type": "code",
      "source": [
        "HLT=[52,63,87,96,33,6,7,9,15,20,44]\n",
        "def numeros (HLT):\n",
        "    return [x for x in HLT if x % 2 == 0]\n",
        "numeros_pares= numeros(HLT)\n"
      ],
      "metadata": {
        "id": "9Oif-NHjbAM7"
      },
      "execution_count": null,
      "outputs": []
    },
    {
      "cell_type": "code",
      "source": [
        "numeros_pares"
      ],
      "metadata": {
        "colab": {
          "base_uri": "https://localhost:8080/"
        },
        "id": "po5OZaQ-cYds",
        "outputId": "63c6924a-5741-480f-8727-baffdb9b3f48"
      },
      "execution_count": null,
      "outputs": [
        {
          "output_type": "execute_result",
          "data": {
            "text/plain": [
              "[52, 96, 6, 20, 44]"
            ]
          },
          "metadata": {},
          "execution_count": 134
        }
      ]
    },
    {
      "cell_type": "markdown",
      "source": [
        "###e) Crea un programa que tome una lista de cadenas como entrada y devuelva una nueva lista que contenga solo las cadenas que comienzan con la letra \"a\"."
      ],
      "metadata": {
        "id": "MhY2SObqVpMM"
      }
    },
    {
      "cell_type": "code",
      "source": [
        "Lista0=[\"one\",\"accept\",\"two\",\"three\",\"air\",\"action\",\"adore\"]\n",
        "def filtrar_letra_a(x):\n",
        "  filtrocona=[]\n",
        "  for cadena in x:\n",
        "    if cadena.startswith(\"a\"):\n",
        "      filtrocona.append(cadena)\n",
        "  return filtrocona\n",
        "AA=filtrar_letra_a(Lista0)"
      ],
      "metadata": {
        "id": "N4TBCyJOVtGD"
      },
      "execution_count": null,
      "outputs": []
    },
    {
      "cell_type": "code",
      "source": [
        "AA"
      ],
      "metadata": {
        "colab": {
          "base_uri": "https://localhost:8080/"
        },
        "id": "ClfOhwV4WTvW",
        "outputId": "eca95cae-1f3b-44e7-f063-42db289140e2"
      },
      "execution_count": null,
      "outputs": [
        {
          "output_type": "execute_result",
          "data": {
            "text/plain": [
              "['accept', 'air', 'action', 'adore']"
            ]
          },
          "metadata": {},
          "execution_count": 99
        }
      ]
    },
    {
      "cell_type": "markdown",
      "source": [
        "###f) Escribe un programa que tome un diccionario como entrada y devuelva el valor asociado con una clave dada."
      ],
      "metadata": {
        "id": "vhL_F6lkVy37"
      }
    },
    {
      "cell_type": "code",
      "source": [
        "Diccionario1={\"Nombre\":\"valentina\", \"Estudio\": \"FYCI\", \"Estado civil\":\"Soltera\"}\n",
        "def obtener_valor (diccionario,clave):\n",
        "  if clave in diccionario: \n",
        "    return diccionario[clave]\n",
        "  else: \n",
        "    return None\n",
        "\n",
        "DD=(obtener_valor(Diccionario1,\"Estudio\"))"
      ],
      "metadata": {
        "id": "Nyl2tncoWedJ"
      },
      "execution_count": null,
      "outputs": []
    },
    {
      "cell_type": "code",
      "source": [
        "DD"
      ],
      "metadata": {
        "colab": {
          "base_uri": "https://localhost:8080/",
          "height": 35
        },
        "id": "gDYcvzzSWW5j",
        "outputId": "19fc4d6b-d3e1-40c6-8e47-4e325b19e422"
      },
      "execution_count": null,
      "outputs": [
        {
          "output_type": "execute_result",
          "data": {
            "text/plain": [
              "'FYCI'"
            ],
            "application/vnd.google.colaboratory.intrinsic+json": {
              "type": "string"
            }
          },
          "metadata": {},
          "execution_count": 101
        }
      ]
    },
    {
      "cell_type": "markdown",
      "source": [
        "###g) Crea un programa que tome una lista de diccionarios como entrada y devuelva una nueva lista que contenga solo los diccionarios que tienen una cierta clave."
      ],
      "metadata": {
        "id": "NOWuwgeCYDY-"
      }
    },
    {
      "cell_type": "code",
      "source": [
        "Diccionario2=[{\"Nombre\":\"Valentina\", \"Estudio\": \"FYCI\", \"Estado civil\":\"Soltera\",\"Edad\":\"30\"},\n",
        "              {\"Nombre\":\"Dylan\",\"Estudio\": \"FYCI\",\"Estado Civil\":\"Soltero\"},\n",
        "              {\"Nombre\":\"Natalia\",\"Estudio\":\"FYCI\",\"Estado civil\":\"Soltera\",\"Edad\":\"20\"}]\n",
        "  "
      ],
      "metadata": {
        "id": "ZCuD0CG-g9a6"
      },
      "execution_count": null,
      "outputs": []
    },
    {
      "cell_type": "code",
      "source": [
        "def two (Diccionario2, key):\n",
        "    return [clave for clave in Diccionario2 if key in clave]\n",
        "key = \"Edad\"\n",
        "DIC_CLAVE= two (Diccionario2, key)\n"
      ],
      "metadata": {
        "id": "GwyJ-X_4hB9i"
      },
      "execution_count": null,
      "outputs": []
    },
    {
      "cell_type": "code",
      "source": [
        "DIC_CLAVE"
      ],
      "metadata": {
        "colab": {
          "base_uri": "https://localhost:8080/"
        },
        "id": "hy0iu3eofvS2",
        "outputId": "3c66f52e-d3f4-4b0f-ea83-f8f913d8a9f4"
      },
      "execution_count": null,
      "outputs": [
        {
          "output_type": "execute_result",
          "data": {
            "text/plain": [
              "[{'Nombre': 'Valentina',\n",
              "  'Estudio': 'FYCI',\n",
              "  'Estado civil': 'Soltera',\n",
              "  'Edad': '30'},\n",
              " {'Nombre': 'Natalia',\n",
              "  'Estudio': 'FYCI',\n",
              "  'Estado civil': 'Soltera',\n",
              "  'Edad': '20'}]"
            ]
          },
          "metadata": {},
          "execution_count": 149
        }
      ]
    },
    {
      "cell_type": "markdown",
      "source": [
        "###h) Escribe un programa que tome un diccionario como entrada y devuelva un nuevo diccionario con las claves y los valores intercambiados."
      ],
      "metadata": {
        "id": "6SrTd4_PdUhL"
      }
    },
    {
      "cell_type": "code",
      "source": [
        "nueva1= [{v:k for k, v in d.items()} for d in Diccionario2]"
      ],
      "metadata": {
        "id": "Q_fLh-ZHhz9R"
      },
      "execution_count": null,
      "outputs": []
    },
    {
      "cell_type": "code",
      "source": [
        "nueva1"
      ],
      "metadata": {
        "colab": {
          "base_uri": "https://localhost:8080/"
        },
        "id": "fMFWFID8g3nb",
        "outputId": "594d8f09-1bf8-4aba-d54c-af1925c3ddf2"
      },
      "execution_count": null,
      "outputs": [
        {
          "output_type": "execute_result",
          "data": {
            "text/plain": [
              "[{'Valentina': 'Nombre',\n",
              "  'FYCI': 'Estudio',\n",
              "  'Soltera': 'Estado civil',\n",
              "  '30': 'Edad'},\n",
              " {'Dylan': 'Nombre', 'FYCI': 'Estudio', 'Soltero': 'Estado Civil'},\n",
              " {'Natalia': 'Nombre',\n",
              "  'FYCI': 'Estudio',\n",
              "  'Soltera': 'Estado civil',\n",
              "  '20': 'Edad'}]"
            ]
          },
          "metadata": {},
          "execution_count": 157
        }
      ]
    },
    {
      "cell_type": "markdown",
      "source": [
        "###i) Crea un programa que tome dos diccionarios como entrada y devuelva un nuevo diccionario que contenga solo los pares clave-valor que son comunes a ambos diccionarios."
      ],
      "metadata": {
        "id": "QaClotmshjwy"
      }
    },
    {
      "cell_type": "code",
      "source": [
        "Diccionario3= {\"Z\":78,\"D\":96, \"X\":50,\"E\":25}\n",
        "Diccionario4={\"a\":2,\"X\":50,\"n\":6,\"Z\":78}\n",
        "\n",
        "def comunes (Diccionario3,Diccionario4):\n",
        "  dic_comun={clave:Diccionario3[clave] for clave in Diccionario3 if clave in Diccionario4 and Diccionario3[clave]== Diccionario4[clave]}\n",
        "  return dic_comun\n",
        "  \n"
      ],
      "metadata": {
        "id": "5YU8TfLfjk9E"
      },
      "execution_count": null,
      "outputs": []
    },
    {
      "cell_type": "code",
      "source": [
        "dic_comun= comunes(Diccionario3,Diccionario4)\n",
        "dic_comun"
      ],
      "metadata": {
        "colab": {
          "base_uri": "https://localhost:8080/"
        },
        "id": "ShM_iuEFl2y_",
        "outputId": "0e0cc19c-9288-4133-d4e2-990a06841155"
      },
      "execution_count": null,
      "outputs": [
        {
          "output_type": "execute_result",
          "data": {
            "text/plain": [
              "{'Z': 78, 'X': 50}"
            ]
          },
          "metadata": {},
          "execution_count": 2
        }
      ]
    },
    {
      "cell_type": "markdown",
      "source": [
        "###j) Escribe un programa que tome un diccionario como entrada y devuelva un nuevo diccionario con las claves ordenadas alfabéticamente."
      ],
      "metadata": {
        "id": "bxwLNSzJmeQ9"
      }
    },
    {
      "cell_type": "code",
      "source": [
        "dic_ord=sorted (Diccionario3.items())\n",
        "nuevo_dic_ord= dict(dic_ord)"
      ],
      "metadata": {
        "id": "XZj7J4IYrwsx"
      },
      "execution_count": null,
      "outputs": []
    },
    {
      "cell_type": "code",
      "source": [
        "nuevo_dic_ord"
      ],
      "metadata": {
        "colab": {
          "base_uri": "https://localhost:8080/"
        },
        "id": "nhSyDmg_XAHy",
        "outputId": "663008cc-ddc9-41c1-9c8f-9c8637a7d7f1"
      },
      "execution_count": null,
      "outputs": [
        {
          "output_type": "execute_result",
          "data": {
            "text/plain": [
              "{'D': 96, 'E': 25, 'X': 50, 'Z': 78}"
            ]
          },
          "metadata": {},
          "execution_count": 108
        }
      ]
    },
    {
      "cell_type": "markdown",
      "source": [
        "### k) Escribe una función que tome dos números como entrada y devuelva su suma."
      ],
      "metadata": {
        "id": "8WUM40kuriSL"
      }
    },
    {
      "cell_type": "code",
      "source": [
        "def suma(x,y):\n",
        "  return x+y"
      ],
      "metadata": {
        "id": "HKHo1BDcrpFM"
      },
      "execution_count": null,
      "outputs": []
    },
    {
      "cell_type": "code",
      "source": [
        "suma(568,210)"
      ],
      "metadata": {
        "colab": {
          "base_uri": "https://localhost:8080/"
        },
        "id": "vELX7qK7g9o4",
        "outputId": "56ae5109-28d8-4204-8316-307e65a2d371"
      },
      "execution_count": null,
      "outputs": [
        {
          "output_type": "execute_result",
          "data": {
            "text/plain": [
              "778"
            ]
          },
          "metadata": {},
          "execution_count": 159
        }
      ]
    },
    {
      "cell_type": "markdown",
      "source": [
        "###l) Crea una función que tome una lista de cadenas como entrada y devuelva una nueva lista que contenga solo las cadenas que son más largas que una longitud dada."
      ],
      "metadata": {
        "id": "3oBRuMndtqga"
      }
    },
    {
      "cell_type": "code",
      "source": [
        "alfas=[\"one\",\"accept\",\"two\",\"purple\",\"air\",\"action\",\"adoration\"]\n",
        "def filtrar_letra(alfas,omega):\n",
        "  filtrocona=[]\n",
        "  for alfa in alfas:\n",
        "    if len(alfa)> omega:\n",
        "      filtrocona.append(alfa)\n",
        "  return filtrocona\n",
        "long_min=5\n",
        "XX=filtrar_letra(alfas,long_min)\n"
      ],
      "metadata": {
        "id": "BhzOGnPIvDsk"
      },
      "execution_count": null,
      "outputs": []
    },
    {
      "cell_type": "code",
      "source": [
        "XX"
      ],
      "metadata": {
        "colab": {
          "base_uri": "https://localhost:8080/"
        },
        "id": "pxMdE2c9XD7u",
        "outputId": "8c7231ee-5e1a-4b78-b7e5-c663dc33095e"
      },
      "execution_count": null,
      "outputs": [
        {
          "output_type": "execute_result",
          "data": {
            "text/plain": [
              "['accept', 'purple', 'action', 'adoration']"
            ]
          },
          "metadata": {},
          "execution_count": 110
        }
      ]
    },
    {
      "cell_type": "markdown",
      "source": [
        "### m) Escribe una función que tome una cadena como entrada y devuelva True si la cadena es un palíndromo, False en caso contrario."
      ],
      "metadata": {
        "id": "esXytSc2nkmn"
      }
    },
    {
      "cell_type": "code",
      "source": [
        "def palindromo(palabra):\n",
        "  return palabra == palabra[::-1]"
      ],
      "metadata": {
        "id": "ROEqem60BkI0"
      },
      "execution_count": null,
      "outputs": []
    },
    {
      "cell_type": "code",
      "source": [
        "print(palindromo(\"oro\"))\n",
        "print(palindromo(\"reconocer\"))\n",
        "print(palindromo(\"hazno\"))\n",
        "print(palindromo(\"anillo\"))\n",
        "print(palindromo(\"rayar\"))"
      ],
      "metadata": {
        "colab": {
          "base_uri": "https://localhost:8080/"
        },
        "id": "q0-h5Vr4hCKc",
        "outputId": "5dd24821-0b89-43b4-99be-3785cc2f0315"
      },
      "execution_count": null,
      "outputs": [
        {
          "output_type": "stream",
          "name": "stdout",
          "text": [
            "True\n",
            "True\n",
            "False\n",
            "False\n",
            "True\n"
          ]
        }
      ]
    },
    {
      "cell_type": "markdown",
      "source": [
        "### n) Crea una función que tome una lista de números como entrada y devuelva el promedio de todos los números en la lista."
      ],
      "metadata": {
        "id": "61Q-3gtapFgM"
      }
    },
    {
      "cell_type": "code",
      "source": [
        "def promedio(x): \n",
        "  return sum(x) / len(x)"
      ],
      "metadata": {
        "id": "fnafEMeqqG0_"
      },
      "execution_count": null,
      "outputs": []
    },
    {
      "cell_type": "code",
      "source": [
        "promedio([35,89,63,88,55,10,17,2,77])"
      ],
      "metadata": {
        "colab": {
          "base_uri": "https://localhost:8080/"
        },
        "id": "No8He7rhhFnJ",
        "outputId": "d1545f15-e0f3-403f-c802-83e39f822d13"
      },
      "execution_count": null,
      "outputs": [
        {
          "output_type": "execute_result",
          "data": {
            "text/plain": [
              "48.44444444444444"
            ]
          },
          "metadata": {},
          "execution_count": 163
        }
      ]
    },
    {
      "cell_type": "markdown",
      "source": [
        "### o) Escribe una función que tome un diccionario como entrada y devuelva una lista de todas las claves en el diccionario."
      ],
      "metadata": {
        "id": "4aYE5VGCpJfP"
      }
    },
    {
      "cell_type": "code",
      "source": [
        "Diccionario5={\"BLUE\":\"Azul\", \"YELLOW\":\"Amarillo\",\"GREEN\":\"Verde\",\"PURPLE\":\"Morado\"}\n",
        "def todas_las_claves(diccionario):\n",
        "  return list(diccionario.keys())\n",
        "Las_claves_son= todas_las_claves(Diccionario5)"
      ],
      "metadata": {
        "id": "Ae4c4cPuGWtp"
      },
      "execution_count": null,
      "outputs": []
    },
    {
      "cell_type": "code",
      "source": [
        "Las_claves_son"
      ],
      "metadata": {
        "colab": {
          "base_uri": "https://localhost:8080/"
        },
        "id": "zptmIq2_XJ7g",
        "outputId": "d29e5711-3ac3-4bbb-bdf5-58cc194df87d"
      },
      "execution_count": null,
      "outputs": [
        {
          "output_type": "execute_result",
          "data": {
            "text/plain": [
              "['BLUE', 'YELLOW', 'GREEN', 'PURPLE']"
            ]
          },
          "metadata": {},
          "execution_count": 112
        }
      ]
    },
    {
      "cell_type": "markdown",
      "source": [
        "### p) Escribe un programa que tome una lista de números como entrada y devuelva el valor máximo en la lista."
      ],
      "metadata": {
        "id": "ehgDF9hxpORe"
      }
    },
    {
      "cell_type": "code",
      "source": [
        "ListaN=[52,63,87,96,33,6,7,9,15,20,44]\n",
        "def valor_maximo(lista):\n",
        "  M = lista[0]\n",
        "  for ListaN in lista:\n",
        "     if ListaN > M :\n",
        "       M = ListaN\n",
        "  return M\n",
        "\n",
        "M = valor_maximo(ListaN)\n"
      ],
      "metadata": {
        "id": "z9GdeBiI_91q"
      },
      "execution_count": null,
      "outputs": []
    },
    {
      "cell_type": "code",
      "source": [
        "M"
      ],
      "metadata": {
        "colab": {
          "base_uri": "https://localhost:8080/"
        },
        "id": "q0hZ0OMtXQA_",
        "outputId": "a3d4f006-b90b-464d-c1eb-a621a5ac29df"
      },
      "execution_count": null,
      "outputs": [
        {
          "output_type": "execute_result",
          "data": {
            "text/plain": [
              "96"
            ]
          },
          "metadata": {},
          "execution_count": 114
        }
      ]
    },
    {
      "cell_type": "markdown",
      "source": [
        "### q) Crea un programa que tome una cadena como entrada y devuelva una nueva cadena que contenga solo las vocales en la cadena original."
      ],
      "metadata": {
        "id": "IlvM5jker2Dd"
      }
    },
    {
      "cell_type": "code",
      "source": [
        "cancion= \"idontwannabeyouanymore\"\n",
        "vocales=[]\n",
        "for let in cancion:\n",
        "  if let in \"aeiou\":\n",
        "    vocales.append(let)\n",
        "    vocales_en_la_cadena=\"\".join(vocales)\n",
        "  "
      ],
      "metadata": {
        "id": "B6Olny97U7DG"
      },
      "execution_count": null,
      "outputs": []
    },
    {
      "cell_type": "code",
      "source": [
        "vocales_en_la_cadena"
      ],
      "metadata": {
        "colab": {
          "base_uri": "https://localhost:8080/",
          "height": 35
        },
        "id": "lrYveWGjVria",
        "outputId": "1a4592c4-64f7-4415-fd91-df6918acd49c"
      },
      "execution_count": null,
      "outputs": [
        {
          "output_type": "execute_result",
          "data": {
            "text/plain": [
              "'ioaaeouaoe'"
            ],
            "application/vnd.google.colaboratory.intrinsic+json": {
              "type": "string"
            }
          },
          "metadata": {},
          "execution_count": 95
        }
      ]
    },
    {
      "cell_type": "markdown",
      "source": [
        "### r) Escribe un programa que tome una lista de números como entrada y devuelva una nueva lista que contenga los valores al cuadrado de cada número en la lista original."
      ],
      "metadata": {
        "id": "POY8w4xgr8gy"
      }
    },
    {
      "cell_type": "code",
      "source": [
        "potencia=[2,3,4,5,6,9,12]\n",
        "def lista (potencia):\n",
        "  return [x**2 for x in potencia]\n",
        "Valores_al_cuadrado = lista (potencia)"
      ],
      "metadata": {
        "id": "QCNbjvC3Qc6d"
      },
      "execution_count": null,
      "outputs": []
    },
    {
      "cell_type": "code",
      "source": [
        "Valores_al_cuadrado"
      ],
      "metadata": {
        "colab": {
          "base_uri": "https://localhost:8080/"
        },
        "id": "C5PLYZAtRI5w",
        "outputId": "c7eb65b1-fa17-451f-acd0-745a1ee27b0f"
      },
      "execution_count": null,
      "outputs": [
        {
          "output_type": "execute_result",
          "data": {
            "text/plain": [
              "[4, 9, 16, 25, 36, 81, 144]"
            ]
          },
          "metadata": {},
          "execution_count": 89
        }
      ]
    },
    {
      "cell_type": "markdown",
      "source": [
        "### s) Crea un programa que tome una cadena como entrada y devuelva una nueva cadena con los caracteres en orden inverso."
      ],
      "metadata": {
        "id": "rG-5N6SJr_bF"
      }
    },
    {
      "cell_type": "code",
      "source": [
        "Cadena= \"Me gusta la musica y el ron\"\n",
        "def orden (Cadena):\n",
        "  return Cadena[::-1]\n",
        "\n",
        "orden_inverso= orden(Cadena)"
      ],
      "metadata": {
        "id": "NxO6vdUyTZaG"
      },
      "execution_count": null,
      "outputs": []
    },
    {
      "cell_type": "code",
      "source": [
        "orden_inverso"
      ],
      "metadata": {
        "colab": {
          "base_uri": "https://localhost:8080/",
          "height": 35
        },
        "id": "4Sjvel1MWNED",
        "outputId": "9c88c9e6-cd53-4df6-b177-2189cf4a9bc0"
      },
      "execution_count": null,
      "outputs": [
        {
          "output_type": "execute_result",
          "data": {
            "text/plain": [
              "'nor le y acisum al atsug eM'"
            ],
            "application/vnd.google.colaboratory.intrinsic+json": {
              "type": "string"
            }
          },
          "metadata": {},
          "execution_count": 97
        }
      ]
    },
    {
      "cell_type": "markdown",
      "source": [
        "### t) Escribe un programa que tome una lista de cadenas como entrada y devuelva una nueva lista que contenga la longitud de cada cadena en la lista original."
      ],
      "metadata": {
        "id": "kPV64ZzFsCpy"
      }
    },
    {
      "cell_type": "code",
      "source": [
        "Cadena_Lista=[\"one\",\"accept\",\"two\",\"three\",\"air\",\"action\",\"adore\"]\n",
        "def one (Cadena_Lista):\n",
        "  return [len(cad) for cad in Cadena_Lista]\n",
        "\n",
        "Longitud= one (Cadena_Lista)\n"
      ],
      "metadata": {
        "id": "8xcrCgJAYOTp"
      },
      "execution_count": null,
      "outputs": []
    },
    {
      "cell_type": "code",
      "source": [
        "Longitud"
      ],
      "metadata": {
        "colab": {
          "base_uri": "https://localhost:8080/"
        },
        "id": "HNKGcVK4ZDbY",
        "outputId": "9c4459db-ffe8-4eb4-d09c-4e0809707460"
      },
      "execution_count": null,
      "outputs": [
        {
          "output_type": "execute_result",
          "data": {
            "text/plain": [
              "[3, 6, 3, 5, 3, 6, 5]"
            ]
          },
          "metadata": {},
          "execution_count": 116
        }
      ]
    }
  ]
}